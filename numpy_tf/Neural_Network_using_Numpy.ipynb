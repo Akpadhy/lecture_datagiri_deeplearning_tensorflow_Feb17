{
 "cells": [
  {
   "cell_type": "markdown",
   "metadata": {},
   "source": [
    "# Neural Networks Using Numpy\n",
    "\n",
    "- We will use only the standard libraries available in Python like Numpy and scipy to train a 2 layer neural network.\n",
    "- The Class object is defined in the numpy_neural_box.\n",
    "- We will be using mnist dataset to train the neural network "
   ]
  },
  {
   "cell_type": "code",
   "execution_count": 1,
   "metadata": {
    "collapsed": false
   },
   "outputs": [
    {
     "name": "stdout",
     "output_type": "stream",
     "text": [
      "Extracting MNIST_data/train-images-idx3-ubyte.gz\n",
      "Extracting MNIST_data/train-labels-idx1-ubyte.gz\n",
      "Extracting MNIST_data/t10k-images-idx3-ubyte.gz\n",
      "Extracting MNIST_data/t10k-labels-idx1-ubyte.gz\n"
     ]
    }
   ],
   "source": [
    "# Import MINST data\n",
    "from tensorflow.examples.tutorials.mnist import input_data\n",
    "mnist = input_data.read_data_sets(\"MNIST_data/\", one_hot=True)\n",
    "\n",
    "from sklearn import metrics # to calculate metrics\n",
    "import numpy as np \n",
    "import time # to calculate time "
   ]
  },
  {
   "cell_type": "code",
   "execution_count": 2,
   "metadata": {
    "collapsed": true
   },
   "outputs": [],
   "source": [
    "from numpy_neural_box import neuralNetwork"
   ]
  },
  {
   "cell_type": "code",
   "execution_count": 3,
   "metadata": {
    "collapsed": false
   },
   "outputs": [
    {
     "data": {
      "text/plain": [
       "(55000, 784)"
      ]
     },
     "execution_count": 3,
     "metadata": {},
     "output_type": "execute_result"
    }
   ],
   "source": [
    "mnist.train.images.shape"
   ]
  },
  {
   "cell_type": "code",
   "execution_count": 4,
   "metadata": {
    "collapsed": false
   },
   "outputs": [
    {
     "data": {
      "text/plain": [
       "(55000, 10)"
      ]
     },
     "execution_count": 4,
     "metadata": {},
     "output_type": "execute_result"
    }
   ],
   "source": [
    "mnist.train.labels.shape"
   ]
  },
  {
   "cell_type": "code",
   "execution_count": 5,
   "metadata": {
    "collapsed": true
   },
   "outputs": [],
   "source": [
    "model = neuralNetwork(784, 256, 10, 0.001)"
   ]
  },
  {
   "cell_type": "code",
   "execution_count": 6,
   "metadata": {
    "collapsed": false
   },
   "outputs": [],
   "source": [
    "epochs = 20\n",
    "batch_size = 32"
   ]
  },
  {
   "cell_type": "code",
   "execution_count": 7,
   "metadata": {
    "collapsed": false,
    "scrolled": false
   },
   "outputs": [
    {
     "name": "stdout",
     "output_type": "stream",
     "text": [
      "epoch:  0 Train_Accuracy:  0.142181818182 Validation_Accuracy:  0.1466 time_taken: 1.184631109237671\n",
      "epoch:  0 Train_Accuracy:  0.843563636364 Validation_Accuracy:  0.8498 time_taken: 2.864598035812378\n",
      "epoch:  0 Train_Accuracy:  0.874890909091 Validation_Accuracy:  0.8834 time_taken: 4.745151042938232\n",
      "epoch:  0 Train_Accuracy:  0.882836363636 Validation_Accuracy:  0.8888 time_taken: 6.740671157836914\n",
      "epoch:  0 Train_Accuracy:  0.886872727273 Validation_Accuracy:  0.894 time_taken: 8.445640087127686\n",
      "total time taken:  8.620532989501953\n",
      "epoch:  1 Train_Accuracy:  0.884763636364 Validation_Accuracy:  0.8912 time_taken: 9.562324047088623\n",
      "epoch:  1 Train_Accuracy:  0.890836363636 Validation_Accuracy:  0.8982 time_taken: 11.107349157333374\n",
      "epoch:  1 Train_Accuracy:  0.897090909091 Validation_Accuracy:  0.9042 time_taken: 12.656450033187866\n",
      "epoch:  1 Train_Accuracy:  0.898672727273 Validation_Accuracy:  0.9062 time_taken: 14.245753049850464\n",
      "epoch:  1 Train_Accuracy:  0.899890909091 Validation_Accuracy:  0.9078 time_taken: 15.808287143707275\n",
      "total time taken:  15.986402988433838\n",
      "epoch:  2 Train_Accuracy:  0.898545454545 Validation_Accuracy:  0.9058 time_taken: 16.926308155059814\n",
      "epoch:  2 Train_Accuracy:  0.902072727273 Validation_Accuracy:  0.9092 time_taken: 18.51070499420166\n",
      "epoch:  2 Train_Accuracy:  0.905363636364 Validation_Accuracy:  0.9138 time_taken: 20.07406711578369\n",
      "epoch:  2 Train_Accuracy:  0.906909090909 Validation_Accuracy:  0.9122 time_taken: 21.621973037719727\n",
      "epoch:  2 Train_Accuracy:  0.908127272727 Validation_Accuracy:  0.9142 time_taken: 23.174138069152832\n",
      "total time taken:  23.34865403175354\n",
      "epoch:  3 Train_Accuracy:  0.906636363636 Validation_Accuracy:  0.913 time_taken: 24.29412817955017\n",
      "epoch:  3 Train_Accuracy:  0.909072727273 Validation_Accuracy:  0.9132 time_taken: 25.839099168777466\n",
      "epoch:  3 Train_Accuracy:  0.911618181818 Validation_Accuracy:  0.9182 time_taken: 27.410482168197632\n",
      "epoch:  3 Train_Accuracy:  0.912818181818 Validation_Accuracy:  0.9172 time_taken: 28.954679012298584\n",
      "epoch:  3 Train_Accuracy:  0.914272727273 Validation_Accuracy:  0.9178 time_taken: 30.525650024414062\n",
      "total time taken:  30.70076012611389\n",
      "epoch:  4 Train_Accuracy:  0.912981818182 Validation_Accuracy:  0.9164 time_taken: 31.656787157058716\n",
      "epoch:  4 Train_Accuracy:  0.914090909091 Validation_Accuracy:  0.9182 time_taken: 33.23951697349548\n",
      "epoch:  4 Train_Accuracy:  0.916127272727 Validation_Accuracy:  0.9212 time_taken: 34.804906129837036\n",
      "epoch:  4 Train_Accuracy:  0.917163636364 Validation_Accuracy:  0.9232 time_taken: 36.71556997299194\n",
      "epoch:  4 Train_Accuracy:  0.9188 Validation_Accuracy:  0.9228 time_taken: 38.378268003463745\n",
      "total time taken:  38.55253314971924\n",
      "epoch:  5 Train_Accuracy:  0.917545454545 Validation_Accuracy:  0.9224 time_taken: 39.53625202178955\n",
      "epoch:  5 Train_Accuracy:  0.918327272727 Validation_Accuracy:  0.9224 time_taken: 41.15008211135864\n",
      "epoch:  5 Train_Accuracy:  0.920236363636 Validation_Accuracy:  0.9262 time_taken: 42.75528311729431\n",
      "epoch:  5 Train_Accuracy:  0.920909090909 Validation_Accuracy:  0.9264 time_taken: 44.324846029281616\n",
      "epoch:  5 Train_Accuracy:  0.922563636364 Validation_Accuracy:  0.9264 time_taken: 45.894052028656006\n",
      "total time taken:  46.068026065826416\n",
      "epoch:  6 Train_Accuracy:  0.921036363636 Validation_Accuracy:  0.9252 time_taken: 47.01271605491638\n",
      "epoch:  6 Train_Accuracy:  0.922236363636 Validation_Accuracy:  0.9254 time_taken: 48.55149507522583\n",
      "epoch:  6 Train_Accuracy:  0.923854545455 Validation_Accuracy:  0.9292 time_taken: 50.09913897514343\n",
      "epoch:  6 Train_Accuracy:  0.924236363636 Validation_Accuracy:  0.9296 time_taken: 51.656814098358154\n",
      "epoch:  6 Train_Accuracy:  0.925545454545 Validation_Accuracy:  0.9298 time_taken: 53.20728611946106\n",
      "total time taken:  53.38235116004944\n",
      "epoch:  7 Train_Accuracy:  0.924618181818 Validation_Accuracy:  0.9286 time_taken: 54.32050800323486\n",
      "epoch:  7 Train_Accuracy:  0.925327272727 Validation_Accuracy:  0.9288 time_taken: 55.85638403892517\n",
      "epoch:  7 Train_Accuracy:  0.926672727273 Validation_Accuracy:  0.9324 time_taken: 57.46621012687683\n",
      "epoch:  7 Train_Accuracy:  0.927127272727 Validation_Accuracy:  0.9324 time_taken: 59.01901602745056\n",
      "epoch:  7 Train_Accuracy:  0.928472727273 Validation_Accuracy:  0.932 time_taken: 60.56070804595947\n",
      "total time taken:  60.735316038131714\n",
      "epoch:  8 Train_Accuracy:  0.927490909091 Validation_Accuracy:  0.931 time_taken: 61.691585063934326\n",
      "epoch:  8 Train_Accuracy:  0.928018181818 Validation_Accuracy:  0.9312 time_taken: 63.23828411102295\n",
      "epoch:  8 Train_Accuracy:  0.929436363636 Validation_Accuracy:  0.9336 time_taken: 64.8035671710968\n",
      "epoch:  8 Train_Accuracy:  0.929581818182 Validation_Accuracy:  0.9338 time_taken: 66.72870397567749\n",
      "epoch:  8 Train_Accuracy:  0.931309090909 Validation_Accuracy:  0.9346 time_taken: 68.60289311408997\n",
      "total time taken:  68.78180503845215\n",
      "epoch:  9 Train_Accuracy:  0.93 Validation_Accuracy:  0.9332 time_taken: 69.94587111473083\n",
      "epoch:  9 Train_Accuracy:  0.930618181818 Validation_Accuracy:  0.9338 time_taken: 71.70770502090454\n",
      "epoch:  9 Train_Accuracy:  0.931672727273 Validation_Accuracy:  0.9348 time_taken: 73.41343808174133\n",
      "epoch:  9 Train_Accuracy:  0.931745454545 Validation_Accuracy:  0.935 time_taken: 75.09860801696777\n",
      "epoch:  9 Train_Accuracy:  0.9336 Validation_Accuracy:  0.9372 time_taken: 76.63234210014343\n",
      "total time taken:  76.85044312477112\n",
      "epoch:  10 Train_Accuracy:  0.932527272727 Validation_Accuracy:  0.9354 time_taken: 77.8125741481781\n",
      "epoch:  10 Train_Accuracy:  0.933127272727 Validation_Accuracy:  0.9356 time_taken: 79.3523302078247\n",
      "epoch:  10 Train_Accuracy:  0.933581818182 Validation_Accuracy:  0.9374 time_taken: 81.10489702224731\n",
      "epoch:  10 Train_Accuracy:  0.934 Validation_Accuracy:  0.9378 time_taken: 82.74557614326477\n",
      "epoch:  10 Train_Accuracy:  0.935563636364 Validation_Accuracy:  0.9388 time_taken: 84.3448371887207\n",
      "total time taken:  84.58831119537354\n",
      "epoch:  11 Train_Accuracy:  0.934727272727 Validation_Accuracy:  0.938 time_taken: 85.69436812400818\n",
      "epoch:  11 Train_Accuracy:  0.935054545455 Validation_Accuracy:  0.9386 time_taken: 87.40466713905334\n",
      "epoch:  11 Train_Accuracy:  0.936127272727 Validation_Accuracy:  0.9394 time_taken: 88.94279098510742\n",
      "epoch:  11 Train_Accuracy:  0.935654545455 Validation_Accuracy:  0.9404 time_taken: 90.55811619758606\n",
      "epoch:  11 Train_Accuracy:  0.937927272727 Validation_Accuracy:  0.9402 time_taken: 92.1070351600647\n",
      "total time taken:  92.28811812400818\n",
      "epoch:  12 Train_Accuracy:  0.936745454545 Validation_Accuracy:  0.9394 time_taken: 93.24271512031555\n",
      "epoch:  12 Train_Accuracy:  0.936981818182 Validation_Accuracy:  0.9394 time_taken: 94.77855014801025\n",
      "epoch:  12 Train_Accuracy:  0.938072727273 Validation_Accuracy:  0.9416 time_taken: 96.33470606803894\n",
      "epoch:  12 Train_Accuracy:  0.937472727273 Validation_Accuracy:  0.9426 time_taken: 97.8646011352539\n",
      "epoch:  12 Train_Accuracy:  0.939690909091 Validation_Accuracy:  0.9414 time_taken: 99.41890501976013\n",
      "total time taken:  99.65239810943604\n",
      "epoch:  13 Train_Accuracy:  0.938363636364 Validation_Accuracy:  0.9398 time_taken: 101.00675916671753\n",
      "epoch:  13 Train_Accuracy:  0.938672727273 Validation_Accuracy:  0.9418 time_taken: 102.91041016578674\n",
      "epoch:  13 Train_Accuracy:  0.939563636364 Validation_Accuracy:  0.9434 time_taken: 105.26317620277405\n",
      "epoch:  13 Train_Accuracy:  0.939381818182 Validation_Accuracy:  0.9442 time_taken: 107.10006809234619\n",
      "epoch:  13 Train_Accuracy:  0.941254545455 Validation_Accuracy:  0.9432 time_taken: 108.79789805412292\n",
      "total time taken:  109.00520205497742\n",
      "epoch:  14 Train_Accuracy:  0.939872727273 Validation_Accuracy:  0.942 time_taken: 110.04310512542725\n",
      "epoch:  14 Train_Accuracy:  0.940272727273 Validation_Accuracy:  0.9438 time_taken: 111.72734999656677\n",
      "epoch:  14 Train_Accuracy:  0.940872727273 Validation_Accuracy:  0.9448 time_taken: 113.58216309547424\n",
      "epoch:  14 Train_Accuracy:  0.940981818182 Validation_Accuracy:  0.9452 time_taken: 115.44348406791687\n",
      "epoch:  14 Train_Accuracy:  0.942690909091 Validation_Accuracy:  0.9444 time_taken: 117.37956619262695\n",
      "total time taken:  117.64312720298767\n",
      "epoch:  15 Train_Accuracy:  0.941490909091 Validation_Accuracy:  0.9428 time_taken: 118.7258071899414\n",
      "epoch:  15 Train_Accuracy:  0.941836363636 Validation_Accuracy:  0.946 time_taken: 120.67609405517578\n",
      "epoch:  15 Train_Accuracy:  0.942290909091 Validation_Accuracy:  0.9464 time_taken: 122.84230208396912\n",
      "epoch:  15 Train_Accuracy:  0.942490909091 Validation_Accuracy:  0.9464 time_taken: 124.52959704399109\n",
      "epoch:  15 Train_Accuracy:  0.944090909091 Validation_Accuracy:  0.9456 time_taken: 126.40089201927185\n",
      "total time taken:  126.6615309715271\n",
      "epoch:  16 Train_Accuracy:  0.942945454545 Validation_Accuracy:  0.9456 time_taken: 127.84703207015991\n",
      "epoch:  16 Train_Accuracy:  0.943290909091 Validation_Accuracy:  0.9472 time_taken: 129.42831301689148\n",
      "epoch:  16 Train_Accuracy:  0.943690909091 Validation_Accuracy:  0.9474 time_taken: 131.1473000049591\n",
      "epoch:  16 Train_Accuracy:  0.943636363636 Validation_Accuracy:  0.948 time_taken: 132.8165581226349\n",
      "epoch:  16 Train_Accuracy:  0.945509090909 Validation_Accuracy:  0.947 time_taken: 134.40103816986084\n",
      "total time taken:  134.57803416252136\n",
      "epoch:  17 Train_Accuracy:  0.944218181818 Validation_Accuracy:  0.947 time_taken: 135.53114008903503\n",
      "epoch:  17 Train_Accuracy:  0.944472727273 Validation_Accuracy:  0.9482 time_taken: 137.1138231754303\n",
      "epoch:  17 Train_Accuracy:  0.945 Validation_Accuracy:  0.9478 time_taken: 138.67324900627136\n",
      "epoch:  17 Train_Accuracy:  0.945090909091 Validation_Accuracy:  0.9486 time_taken: 140.22178411483765\n",
      "epoch:  17 Train_Accuracy:  0.946436363636 Validation_Accuracy:  0.9484 time_taken: 141.940101146698\n",
      "total time taken:  142.11459803581238\n",
      "epoch:  18 Train_Accuracy:  0.9456 Validation_Accuracy:  0.9482 time_taken: 143.08721899986267\n",
      "epoch:  18 Train_Accuracy:  0.945436363636 Validation_Accuracy:  0.949 time_taken: 144.663232088089\n",
      "epoch:  18 Train_Accuracy:  0.946272727273 Validation_Accuracy:  0.9484 time_taken: 146.3299582004547\n",
      "epoch:  18 Train_Accuracy:  0.946072727273 Validation_Accuracy:  0.9498 time_taken: 147.91082310676575\n",
      "epoch:  18 Train_Accuracy:  0.947545454545 Validation_Accuracy:  0.9494 time_taken: 149.47509002685547\n",
      "total time taken:  149.65493607521057\n",
      "epoch:  19 Train_Accuracy:  0.946763636364 Validation_Accuracy:  0.949 time_taken: 150.62201714515686\n",
      "epoch:  19 Train_Accuracy:  0.946963636364 Validation_Accuracy:  0.9492 time_taken: 152.2076849937439\n",
      "epoch:  19 Train_Accuracy:  0.947236363636 Validation_Accuracy:  0.9488 time_taken: 153.80546402931213\n",
      "epoch:  19 Train_Accuracy:  0.947072727273 Validation_Accuracy:  0.9506 time_taken: 155.3774712085724\n",
      "epoch:  19 Train_Accuracy:  0.948618181818 Validation_Accuracy:  0.9502 time_taken: 157.56824016571045\n",
      "total time taken:  157.74864411354065\n"
     ]
    }
   ],
   "source": [
    "start = time.time()\n",
    "for i in range(epochs):\n",
    "    batches = int(len(mnist.train.images)/batch_size)\n",
    "    for j in range(batches):\n",
    "        model.train(mnist.train.images[j*batch_size:(j+1)*batch_size,:], \\\n",
    "                    mnist.train.labels[j*batch_size:(j+1)*batch_size,:])\n",
    "        if j % 400 == 0:\n",
    "            t_acc = model.query(mnist.train.images)\n",
    "            t_val = model.query(mnist.validation.images)\n",
    "            train_acc = metrics.accuracy_score(np.argmax(mnist.train.labels, axis=1), np.argmax(t_acc, axis=0))\n",
    "            valid_acc = metrics.accuracy_score(np.argmax(mnist.validation.labels, axis=1), np.argmax(t_val, axis=0))\n",
    "            print (\"epoch: \", i , \"Train_Accuracy: \", train_acc, \"Validation_Accuracy: \", valid_acc, \"time_taken:\", (time.time() - start))\n",
    "    print (\"total time taken: \", time.time()-start)"
   ]
  },
  {
   "cell_type": "code",
   "execution_count": 8,
   "metadata": {
    "collapsed": false
   },
   "outputs": [
    {
     "name": "stdout",
     "output_type": "stream",
     "text": [
      "Total_time_taken_to_train: 157.75491905212402\n"
     ]
    }
   ],
   "source": [
    "print (\"Total_time_taken_to_train:\" , time.time() - start)"
   ]
  },
  {
   "cell_type": "code",
   "execution_count": 9,
   "metadata": {
    "collapsed": false
   },
   "outputs": [],
   "source": [
    "pred = model.query(mnist.test.images)"
   ]
  },
  {
   "cell_type": "code",
   "execution_count": 10,
   "metadata": {
    "collapsed": false
   },
   "outputs": [
    {
     "name": "stdout",
     "output_type": "stream",
     "text": [
      "             precision    recall  f1-score   support\n",
      "\n",
      "          0       0.95      0.98      0.97       980\n",
      "          1       0.98      0.98      0.98      1135\n",
      "          2       0.95      0.93      0.94      1032\n",
      "          3       0.94      0.94      0.94      1010\n",
      "          4       0.95      0.95      0.95       982\n",
      "          5       0.95      0.93      0.94       892\n",
      "          6       0.94      0.96      0.95       958\n",
      "          7       0.95      0.94      0.94      1028\n",
      "          8       0.93      0.93      0.93       974\n",
      "          9       0.93      0.93      0.93      1009\n",
      "\n",
      "avg / total       0.95      0.95      0.95     10000\n",
      "\n"
     ]
    }
   ],
   "source": [
    "print(metrics.classification_report(np.argmax(mnist.test.labels, axis=1),np.argmax(pred, axis=0) ))"
   ]
  },
  {
   "cell_type": "code",
   "execution_count": 11,
   "metadata": {
    "collapsed": false
   },
   "outputs": [],
   "source": [
    "test_accuracy = metrics.accuracy_score(np.argmax(mnist.test.labels, axis=1), np.argmax(pred, axis=0))"
   ]
  },
  {
   "cell_type": "code",
   "execution_count": 12,
   "metadata": {
    "collapsed": false
   },
   "outputs": [
    {
     "name": "stdout",
     "output_type": "stream",
     "text": [
      "0.9475\n"
     ]
    }
   ],
   "source": [
    "print(test_accuracy)"
   ]
  }
 ],
 "metadata": {
  "kernelspec": {
   "display_name": "Python 3",
   "language": "python",
   "name": "python3"
  },
  "language_info": {
   "codemirror_mode": {
    "name": "ipython",
    "version": 3
   },
   "file_extension": ".py",
   "mimetype": "text/x-python",
   "name": "python",
   "nbconvert_exporter": "python",
   "pygments_lexer": "ipython3",
   "version": "3.5.2"
  }
 },
 "nbformat": 4,
 "nbformat_minor": 2
}
