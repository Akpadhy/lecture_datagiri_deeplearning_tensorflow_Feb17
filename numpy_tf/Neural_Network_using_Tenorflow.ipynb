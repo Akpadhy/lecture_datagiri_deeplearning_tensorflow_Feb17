{
 "cells": [
  {
   "cell_type": "code",
   "execution_count": 1,
   "metadata": {
    "collapsed": false
   },
   "outputs": [
    {
     "name": "stdout",
     "output_type": "stream",
     "text": [
      "Extracting MNIST_data/train-images-idx3-ubyte.gz\n",
      "Extracting MNIST_data/train-labels-idx1-ubyte.gz\n",
      "Extracting MNIST_data/t10k-images-idx3-ubyte.gz\n",
      "Extracting MNIST_data/t10k-labels-idx1-ubyte.gz\n"
     ]
    }
   ],
   "source": [
    "# Import MINST data\n",
    "from tensorflow.examples.tutorials.mnist import input_data\n",
    "mnist = input_data.read_data_sets(\"MNIST_data/\", one_hot=True)\n",
    "\n",
    "import tensorflow as tf"
   ]
  },
  {
   "cell_type": "code",
   "execution_count": 2,
   "metadata": {
    "collapsed": true
   },
   "outputs": [],
   "source": [
    "import time \n",
    "from sklearn import metrics"
   ]
  },
  {
   "cell_type": "code",
   "execution_count": 3,
   "metadata": {
    "collapsed": true
   },
   "outputs": [],
   "source": [
    "# Parameters\n",
    "learning_rate = 0.01\n",
    "epochs = 10\n",
    "batch_size = 32\n",
    "\n",
    "\n",
    "# Network Parameters\n",
    "n_hidden_1 = 256 # 1st layer number of features\n",
    "n_input = 784 # MNIST data input (img shape: 28*28)\n",
    "n_classes = 10 # MNIST total classes (0-9 digits)\n",
    "\n",
    "# tf Graph input\n",
    "x = tf.placeholder(tf.float32, [None, n_input])\n",
    "y = tf.placeholder(tf.float32, [None, n_classes])"
   ]
  },
  {
   "cell_type": "code",
   "execution_count": 4,
   "metadata": {
    "collapsed": true
   },
   "outputs": [],
   "source": [
    "# Create model\n",
    "def multilayer_perceptron(x, n_input, n_hidden_1, n_classes):\n",
    "    # Hidden layer with RELU activation\n",
    "    with tf.name_scope(\"hidden_layer\"):\n",
    "        w1= tf.Variable(tf.random_normal([n_input, n_hidden_1]), name = \"weights\")\n",
    "        layer_1 = tf.nn.sigmoid(tf.matmul(x,w1))\n",
    "    # Output layer with linear activation\n",
    "    with tf.name_scope(\"output_layer\"):\n",
    "        w_o = tf.Variable(tf.random_normal([n_hidden_1, n_classes]), name = \"weights\")\n",
    "        out_layer = tf.matmul(layer_1, w_o)\n",
    "    return out_layer"
   ]
  },
  {
   "cell_type": "code",
   "execution_count": 5,
   "metadata": {
    "collapsed": false
   },
   "outputs": [],
   "source": [
    "# Construct model\n",
    "pred = multilayer_perceptron(x, n_input, n_hidden_1, n_classes)"
   ]
  },
  {
   "cell_type": "code",
   "execution_count": 6,
   "metadata": {
    "collapsed": false
   },
   "outputs": [
    {
     "data": {
      "text/plain": [
       "<tf.Tensor 'accuracy_1:0' shape=() dtype=string>"
      ]
     },
     "execution_count": 6,
     "metadata": {},
     "output_type": "execute_result"
    }
   ],
   "source": [
    "# Define loss and optimizer\n",
    "with tf.name_scope(\"cross_entropy\"):\n",
    "    out = tf.nn.sigmoid_cross_entropy_with_logits(logits=pred, labels=y)\n",
    "    with tf.name_scope(\"total_loss\"):\n",
    "        cross_entropy = tf.reduce_mean(out)\n",
    "tf.summary.scalar(\"cross_entropy\", cross_entropy)\n",
    "\n",
    "with tf.name_scope(\"train\"):\n",
    "    optimizer = tf.train.AdamOptimizer(learning_rate=learning_rate).minimize(cross_entropy)\n",
    "    \n",
    "with tf.name_scope(\"accuracy\"):\n",
    "    with tf.name_scope(\"correct_prediction\"):\n",
    "        correct_prediction = tf.equal(tf.argmax(pred, 1), tf.argmax(y,1))\n",
    "    with tf.name_scope(\"accuracy\"):\n",
    "        accuracy = tf.reduce_mean(tf.cast(correct_prediction, tf.float32))\n",
    "tf.summary.scalar(\"accuracy\", accuracy)"
   ]
  },
  {
   "cell_type": "code",
   "execution_count": 7,
   "metadata": {
    "collapsed": false,
    "scrolled": false
   },
   "outputs": [
    {
     "data": {
      "text/plain": [
       "[(<tf.Tensor 'Placeholder:0' shape=(?, 784) dtype=float32>,),\n",
       " (<tf.Tensor 'Placeholder_1:0' shape=(?, 10) dtype=float32>,),\n",
       " (<tf.Tensor 'hidden_layer/random_normal/shape:0' shape=(2,) dtype=int32>,),\n",
       " (<tf.Tensor 'hidden_layer/random_normal/mean:0' shape=() dtype=float32>,),\n",
       " (<tf.Tensor 'hidden_layer/random_normal/stddev:0' shape=() dtype=float32>,),\n",
       " (<tf.Tensor 'hidden_layer/random_normal/RandomStandardNormal:0' shape=(784, 256) dtype=float32>,),\n",
       " (<tf.Tensor 'hidden_layer/random_normal/mul:0' shape=(784, 256) dtype=float32>,),\n",
       " (<tf.Tensor 'hidden_layer/random_normal:0' shape=(784, 256) dtype=float32>,),\n",
       " (<tf.Tensor 'hidden_layer/weights:0' shape=(784, 256) dtype=float32_ref>,),\n",
       " (<tf.Tensor 'hidden_layer/weights/Assign:0' shape=(784, 256) dtype=float32_ref>,),\n",
       " (<tf.Tensor 'hidden_layer/weights/read:0' shape=(784, 256) dtype=float32>,),\n",
       " (<tf.Tensor 'hidden_layer/MatMul:0' shape=(?, 256) dtype=float32>,),\n",
       " (<tf.Tensor 'hidden_layer/Sigmoid:0' shape=(?, 256) dtype=float32>,),\n",
       " (<tf.Tensor 'output_layer/random_normal/shape:0' shape=(2,) dtype=int32>,),\n",
       " (<tf.Tensor 'output_layer/random_normal/mean:0' shape=() dtype=float32>,),\n",
       " (<tf.Tensor 'output_layer/random_normal/stddev:0' shape=() dtype=float32>,),\n",
       " (<tf.Tensor 'output_layer/random_normal/RandomStandardNormal:0' shape=(256, 10) dtype=float32>,),\n",
       " (<tf.Tensor 'output_layer/random_normal/mul:0' shape=(256, 10) dtype=float32>,),\n",
       " (<tf.Tensor 'output_layer/random_normal:0' shape=(256, 10) dtype=float32>,),\n",
       " (<tf.Tensor 'output_layer/weights:0' shape=(256, 10) dtype=float32_ref>,),\n",
       " (<tf.Tensor 'output_layer/weights/Assign:0' shape=(256, 10) dtype=float32_ref>,),\n",
       " (<tf.Tensor 'output_layer/weights/read:0' shape=(256, 10) dtype=float32>,),\n",
       " (<tf.Tensor 'output_layer/MatMul:0' shape=(?, 10) dtype=float32>,),\n",
       " (<tf.Tensor 'cross_entropy/logistic_loss/zeros_like:0' shape=(?, 10) dtype=float32>,),\n",
       " (<tf.Tensor 'cross_entropy/logistic_loss/GreaterEqual:0' shape=(?, 10) dtype=bool>,),\n",
       " (<tf.Tensor 'cross_entropy/logistic_loss/Select:0' shape=(?, 10) dtype=float32>,),\n",
       " (<tf.Tensor 'cross_entropy/logistic_loss/Neg:0' shape=(?, 10) dtype=float32>,),\n",
       " (<tf.Tensor 'cross_entropy/logistic_loss/Select_1:0' shape=(?, 10) dtype=float32>,),\n",
       " (<tf.Tensor 'cross_entropy/logistic_loss/mul:0' shape=(?, 10) dtype=float32>,),\n",
       " (<tf.Tensor 'cross_entropy/logistic_loss/sub:0' shape=(?, 10) dtype=float32>,),\n",
       " (<tf.Tensor 'cross_entropy/logistic_loss/Exp:0' shape=(?, 10) dtype=float32>,),\n",
       " (<tf.Tensor 'cross_entropy/logistic_loss/Log1p:0' shape=(?, 10) dtype=float32>,),\n",
       " (<tf.Tensor 'cross_entropy/logistic_loss:0' shape=(?, 10) dtype=float32>,),\n",
       " (<tf.Tensor 'cross_entropy/total_loss/Const:0' shape=(2,) dtype=int32>,),\n",
       " (<tf.Tensor 'cross_entropy/total_loss/Mean:0' shape=() dtype=float32>,),\n",
       " (<tf.Tensor 'cross_entropy_1/tags:0' shape=() dtype=string>,),\n",
       " (<tf.Tensor 'cross_entropy_1:0' shape=() dtype=string>,),\n",
       " (<tf.Tensor 'train/gradients/Shape:0' shape=(0,) dtype=int32>,),\n",
       " (<tf.Tensor 'train/gradients/Const:0' shape=() dtype=float32>,),\n",
       " (<tf.Tensor 'train/gradients/Fill:0' shape=() dtype=float32>,),\n",
       " (<tf.Tensor 'train/gradients/cross_entropy/total_loss/Mean_grad/Reshape/shape:0' shape=(2,) dtype=int32>,),\n",
       " (<tf.Tensor 'train/gradients/cross_entropy/total_loss/Mean_grad/Reshape:0' shape=(1, 1) dtype=float32>,),\n",
       " (<tf.Tensor 'train/gradients/cross_entropy/total_loss/Mean_grad/Shape:0' shape=(2,) dtype=int32>,),\n",
       " (<tf.Tensor 'train/gradients/cross_entropy/total_loss/Mean_grad/Tile:0' shape=(?, 10) dtype=float32>,),\n",
       " (<tf.Tensor 'train/gradients/cross_entropy/total_loss/Mean_grad/Shape_1:0' shape=(2,) dtype=int32>,),\n",
       " (<tf.Tensor 'train/gradients/cross_entropy/total_loss/Mean_grad/Shape_2:0' shape=(0,) dtype=int32>,),\n",
       " (<tf.Tensor 'train/gradients/cross_entropy/total_loss/Mean_grad/Const:0' shape=(1,) dtype=int32>,),\n",
       " (<tf.Tensor 'train/gradients/cross_entropy/total_loss/Mean_grad/Prod:0' shape=() dtype=int32>,),\n",
       " (<tf.Tensor 'train/gradients/cross_entropy/total_loss/Mean_grad/Const_1:0' shape=(1,) dtype=int32>,),\n",
       " (<tf.Tensor 'train/gradients/cross_entropy/total_loss/Mean_grad/Prod_1:0' shape=() dtype=int32>,),\n",
       " (<tf.Tensor 'train/gradients/cross_entropy/total_loss/Mean_grad/Maximum/y:0' shape=() dtype=int32>,),\n",
       " (<tf.Tensor 'train/gradients/cross_entropy/total_loss/Mean_grad/Maximum:0' shape=() dtype=int32>,),\n",
       " (<tf.Tensor 'train/gradients/cross_entropy/total_loss/Mean_grad/floordiv:0' shape=() dtype=int32>,),\n",
       " (<tf.Tensor 'train/gradients/cross_entropy/total_loss/Mean_grad/Cast:0' shape=() dtype=float32>,),\n",
       " (<tf.Tensor 'train/gradients/cross_entropy/total_loss/Mean_grad/truediv:0' shape=(?, 10) dtype=float32>,),\n",
       " (<tf.Tensor 'train/gradients/cross_entropy/logistic_loss_grad/Shape:0' shape=(2,) dtype=int32>,),\n",
       " (<tf.Tensor 'train/gradients/cross_entropy/logistic_loss_grad/Shape_1:0' shape=(2,) dtype=int32>,),\n",
       " (<tf.Tensor 'train/gradients/cross_entropy/logistic_loss_grad/BroadcastGradientArgs:0' shape=(?,) dtype=int32>,\n",
       "  <tf.Tensor 'train/gradients/cross_entropy/logistic_loss_grad/BroadcastGradientArgs:1' shape=(?,) dtype=int32>),\n",
       " (<tf.Tensor 'train/gradients/cross_entropy/logistic_loss_grad/Sum:0' shape=<unknown> dtype=float32>,),\n",
       " (<tf.Tensor 'train/gradients/cross_entropy/logistic_loss_grad/Reshape:0' shape=(?, 10) dtype=float32>,),\n",
       " (<tf.Tensor 'train/gradients/cross_entropy/logistic_loss_grad/Sum_1:0' shape=<unknown> dtype=float32>,),\n",
       " (<tf.Tensor 'train/gradients/cross_entropy/logistic_loss_grad/Reshape_1:0' shape=(?, 10) dtype=float32>,),\n",
       " (),\n",
       " (<tf.Tensor 'train/gradients/cross_entropy/logistic_loss_grad/tuple/control_dependency:0' shape=(?, 10) dtype=float32>,),\n",
       " (<tf.Tensor 'train/gradients/cross_entropy/logistic_loss_grad/tuple/control_dependency_1:0' shape=(?, 10) dtype=float32>,),\n",
       " (<tf.Tensor 'train/gradients/cross_entropy/logistic_loss/sub_grad/Shape:0' shape=(2,) dtype=int32>,),\n",
       " (<tf.Tensor 'train/gradients/cross_entropy/logistic_loss/sub_grad/Shape_1:0' shape=(2,) dtype=int32>,),\n",
       " (<tf.Tensor 'train/gradients/cross_entropy/logistic_loss/sub_grad/BroadcastGradientArgs:0' shape=(?,) dtype=int32>,\n",
       "  <tf.Tensor 'train/gradients/cross_entropy/logistic_loss/sub_grad/BroadcastGradientArgs:1' shape=(?,) dtype=int32>),\n",
       " (<tf.Tensor 'train/gradients/cross_entropy/logistic_loss/sub_grad/Sum:0' shape=<unknown> dtype=float32>,),\n",
       " (<tf.Tensor 'train/gradients/cross_entropy/logistic_loss/sub_grad/Reshape:0' shape=(?, 10) dtype=float32>,),\n",
       " (<tf.Tensor 'train/gradients/cross_entropy/logistic_loss/sub_grad/Sum_1:0' shape=<unknown> dtype=float32>,),\n",
       " (<tf.Tensor 'train/gradients/cross_entropy/logistic_loss/sub_grad/Neg:0' shape=<unknown> dtype=float32>,),\n",
       " (<tf.Tensor 'train/gradients/cross_entropy/logistic_loss/sub_grad/Reshape_1:0' shape=(?, 10) dtype=float32>,),\n",
       " (),\n",
       " (<tf.Tensor 'train/gradients/cross_entropy/logistic_loss/sub_grad/tuple/control_dependency:0' shape=(?, 10) dtype=float32>,),\n",
       " (<tf.Tensor 'train/gradients/cross_entropy/logistic_loss/sub_grad/tuple/control_dependency_1:0' shape=(?, 10) dtype=float32>,),\n",
       " (<tf.Tensor 'train/gradients/cross_entropy/logistic_loss/Log1p_grad/add/x:0' shape=() dtype=float32>,),\n",
       " (<tf.Tensor 'train/gradients/cross_entropy/logistic_loss/Log1p_grad/add:0' shape=(?, 10) dtype=float32>,),\n",
       " (<tf.Tensor 'train/gradients/cross_entropy/logistic_loss/Log1p_grad/Reciprocal:0' shape=(?, 10) dtype=float32>,),\n",
       " (<tf.Tensor 'train/gradients/cross_entropy/logistic_loss/Log1p_grad/mul:0' shape=(?, 10) dtype=float32>,),\n",
       " (<tf.Tensor 'train/gradients/cross_entropy/logistic_loss/Select_grad/zeros_like:0' shape=(?, 10) dtype=float32>,),\n",
       " (<tf.Tensor 'train/gradients/cross_entropy/logistic_loss/Select_grad/Select:0' shape=(?, 10) dtype=float32>,),\n",
       " (<tf.Tensor 'train/gradients/cross_entropy/logistic_loss/Select_grad/Select_1:0' shape=(?, 10) dtype=float32>,),\n",
       " (),\n",
       " (<tf.Tensor 'train/gradients/cross_entropy/logistic_loss/Select_grad/tuple/control_dependency:0' shape=(?, 10) dtype=float32>,),\n",
       " (<tf.Tensor 'train/gradients/cross_entropy/logistic_loss/Select_grad/tuple/control_dependency_1:0' shape=(?, 10) dtype=float32>,),\n",
       " (<tf.Tensor 'train/gradients/cross_entropy/logistic_loss/mul_grad/Shape:0' shape=(2,) dtype=int32>,),\n",
       " (<tf.Tensor 'train/gradients/cross_entropy/logistic_loss/mul_grad/Shape_1:0' shape=(2,) dtype=int32>,),\n",
       " (<tf.Tensor 'train/gradients/cross_entropy/logistic_loss/mul_grad/BroadcastGradientArgs:0' shape=(?,) dtype=int32>,\n",
       "  <tf.Tensor 'train/gradients/cross_entropy/logistic_loss/mul_grad/BroadcastGradientArgs:1' shape=(?,) dtype=int32>),\n",
       " (<tf.Tensor 'train/gradients/cross_entropy/logistic_loss/mul_grad/mul:0' shape=(?, 10) dtype=float32>,),\n",
       " (<tf.Tensor 'train/gradients/cross_entropy/logistic_loss/mul_grad/Sum:0' shape=<unknown> dtype=float32>,),\n",
       " (<tf.Tensor 'train/gradients/cross_entropy/logistic_loss/mul_grad/Reshape:0' shape=(?, 10) dtype=float32>,),\n",
       " (<tf.Tensor 'train/gradients/cross_entropy/logistic_loss/mul_grad/mul_1:0' shape=(?, 10) dtype=float32>,),\n",
       " (<tf.Tensor 'train/gradients/cross_entropy/logistic_loss/mul_grad/Sum_1:0' shape=<unknown> dtype=float32>,),\n",
       " (<tf.Tensor 'train/gradients/cross_entropy/logistic_loss/mul_grad/Reshape_1:0' shape=(?, 10) dtype=float32>,),\n",
       " (),\n",
       " (<tf.Tensor 'train/gradients/cross_entropy/logistic_loss/mul_grad/tuple/control_dependency:0' shape=(?, 10) dtype=float32>,),\n",
       " (<tf.Tensor 'train/gradients/cross_entropy/logistic_loss/mul_grad/tuple/control_dependency_1:0' shape=(?, 10) dtype=float32>,),\n",
       " (<tf.Tensor 'train/gradients/cross_entropy/logistic_loss/Exp_grad/mul:0' shape=(?, 10) dtype=float32>,),\n",
       " (<tf.Tensor 'train/gradients/cross_entropy/logistic_loss/Select_1_grad/zeros_like:0' shape=(?, 10) dtype=float32>,),\n",
       " (<tf.Tensor 'train/gradients/cross_entropy/logistic_loss/Select_1_grad/Select:0' shape=(?, 10) dtype=float32>,),\n",
       " (<tf.Tensor 'train/gradients/cross_entropy/logistic_loss/Select_1_grad/Select_1:0' shape=(?, 10) dtype=float32>,),\n",
       " (),\n",
       " (<tf.Tensor 'train/gradients/cross_entropy/logistic_loss/Select_1_grad/tuple/control_dependency:0' shape=(?, 10) dtype=float32>,),\n",
       " (<tf.Tensor 'train/gradients/cross_entropy/logistic_loss/Select_1_grad/tuple/control_dependency_1:0' shape=(?, 10) dtype=float32>,),\n",
       " (<tf.Tensor 'train/gradients/cross_entropy/logistic_loss/Neg_grad/Neg:0' shape=(?, 10) dtype=float32>,),\n",
       " (<tf.Tensor 'train/gradients/AddN:0' shape=(?, 10) dtype=float32>,),\n",
       " (<tf.Tensor 'train/gradients/output_layer/MatMul_grad/MatMul:0' shape=(?, 256) dtype=float32>,),\n",
       " (<tf.Tensor 'train/gradients/output_layer/MatMul_grad/MatMul_1:0' shape=(256, 10) dtype=float32>,),\n",
       " (),\n",
       " (<tf.Tensor 'train/gradients/output_layer/MatMul_grad/tuple/control_dependency:0' shape=(?, 256) dtype=float32>,),\n",
       " (<tf.Tensor 'train/gradients/output_layer/MatMul_grad/tuple/control_dependency_1:0' shape=(256, 10) dtype=float32>,),\n",
       " (<tf.Tensor 'train/gradients/hidden_layer/Sigmoid_grad/SigmoidGrad:0' shape=(?, 256) dtype=float32>,),\n",
       " (<tf.Tensor 'train/gradients/hidden_layer/MatMul_grad/MatMul:0' shape=(?, 784) dtype=float32>,),\n",
       " (<tf.Tensor 'train/gradients/hidden_layer/MatMul_grad/MatMul_1:0' shape=(784, 256) dtype=float32>,),\n",
       " (),\n",
       " (<tf.Tensor 'train/gradients/hidden_layer/MatMul_grad/tuple/control_dependency:0' shape=(?, 784) dtype=float32>,),\n",
       " (<tf.Tensor 'train/gradients/hidden_layer/MatMul_grad/tuple/control_dependency_1:0' shape=(784, 256) dtype=float32>,),\n",
       " (<tf.Tensor 'train/beta1_power/initial_value:0' shape=() dtype=float32>,),\n",
       " (<tf.Tensor 'train/beta1_power:0' shape=() dtype=float32_ref>,),\n",
       " (<tf.Tensor 'train/beta1_power/Assign:0' shape=() dtype=float32_ref>,),\n",
       " (<tf.Tensor 'train/beta1_power/read:0' shape=() dtype=float32>,),\n",
       " (<tf.Tensor 'train/beta2_power/initial_value:0' shape=() dtype=float32>,),\n",
       " (<tf.Tensor 'train/beta2_power:0' shape=() dtype=float32_ref>,),\n",
       " (<tf.Tensor 'train/beta2_power/Assign:0' shape=() dtype=float32_ref>,),\n",
       " (<tf.Tensor 'train/beta2_power/read:0' shape=() dtype=float32>,),\n",
       " (<tf.Tensor 'train/zeros:0' shape=(784, 256) dtype=float32>,),\n",
       " (<tf.Tensor 'hidden_layer/weights/Adam:0' shape=(784, 256) dtype=float32_ref>,),\n",
       " (<tf.Tensor 'hidden_layer/weights/Adam/Assign:0' shape=(784, 256) dtype=float32_ref>,),\n",
       " (<tf.Tensor 'hidden_layer/weights/Adam/read:0' shape=(784, 256) dtype=float32>,),\n",
       " (<tf.Tensor 'train/zeros_1:0' shape=(784, 256) dtype=float32>,),\n",
       " (<tf.Tensor 'hidden_layer/weights/Adam_1:0' shape=(784, 256) dtype=float32_ref>,),\n",
       " (<tf.Tensor 'hidden_layer/weights/Adam_1/Assign:0' shape=(784, 256) dtype=float32_ref>,),\n",
       " (<tf.Tensor 'hidden_layer/weights/Adam_1/read:0' shape=(784, 256) dtype=float32>,),\n",
       " (<tf.Tensor 'train/zeros_2:0' shape=(256, 10) dtype=float32>,),\n",
       " (<tf.Tensor 'output_layer/weights/Adam:0' shape=(256, 10) dtype=float32_ref>,),\n",
       " (<tf.Tensor 'output_layer/weights/Adam/Assign:0' shape=(256, 10) dtype=float32_ref>,),\n",
       " (<tf.Tensor 'output_layer/weights/Adam/read:0' shape=(256, 10) dtype=float32>,),\n",
       " (<tf.Tensor 'train/zeros_3:0' shape=(256, 10) dtype=float32>,),\n",
       " (<tf.Tensor 'output_layer/weights/Adam_1:0' shape=(256, 10) dtype=float32_ref>,),\n",
       " (<tf.Tensor 'output_layer/weights/Adam_1/Assign:0' shape=(256, 10) dtype=float32_ref>,),\n",
       " (<tf.Tensor 'output_layer/weights/Adam_1/read:0' shape=(256, 10) dtype=float32>,),\n",
       " (<tf.Tensor 'train/Adam/learning_rate:0' shape=() dtype=float32>,),\n",
       " (<tf.Tensor 'train/Adam/beta1:0' shape=() dtype=float32>,),\n",
       " (<tf.Tensor 'train/Adam/beta2:0' shape=() dtype=float32>,),\n",
       " (<tf.Tensor 'train/Adam/epsilon:0' shape=() dtype=float32>,),\n",
       " (<tf.Tensor 'train/Adam/update_hidden_layer/weights/ApplyAdam:0' shape=(784, 256) dtype=float32_ref>,),\n",
       " (<tf.Tensor 'train/Adam/update_output_layer/weights/ApplyAdam:0' shape=(256, 10) dtype=float32_ref>,),\n",
       " (<tf.Tensor 'train/Adam/mul:0' shape=() dtype=float32>,),\n",
       " (<tf.Tensor 'train/Adam/Assign:0' shape=() dtype=float32_ref>,),\n",
       " (<tf.Tensor 'train/Adam/mul_1:0' shape=() dtype=float32>,),\n",
       " (<tf.Tensor 'train/Adam/Assign_1:0' shape=() dtype=float32_ref>,),\n",
       " (),\n",
       " (<tf.Tensor 'accuracy/correct_prediction/ArgMax/dimension:0' shape=() dtype=int32>,),\n",
       " (<tf.Tensor 'accuracy/correct_prediction/ArgMax:0' shape=(?,) dtype=int64>,),\n",
       " (<tf.Tensor 'accuracy/correct_prediction/ArgMax_1/dimension:0' shape=() dtype=int32>,),\n",
       " (<tf.Tensor 'accuracy/correct_prediction/ArgMax_1:0' shape=(?,) dtype=int64>,),\n",
       " (<tf.Tensor 'accuracy/correct_prediction/Equal:0' shape=(?,) dtype=bool>,),\n",
       " (<tf.Tensor 'accuracy/accuracy/Cast:0' shape=(?,) dtype=float32>,),\n",
       " (<tf.Tensor 'accuracy/accuracy/Const:0' shape=(1,) dtype=int32>,),\n",
       " (<tf.Tensor 'accuracy/accuracy/Mean:0' shape=() dtype=float32>,),\n",
       " (<tf.Tensor 'accuracy_1/tags:0' shape=() dtype=string>,),\n",
       " (<tf.Tensor 'accuracy_1:0' shape=() dtype=string>,)]"
      ]
     },
     "execution_count": 7,
     "metadata": {},
     "output_type": "execute_result"
    }
   ],
   "source": [
    "# We can see all the operations embedded to the graph. You can see how scope helps in naming an operation at the end.\n",
    "sess = tf.Session()\n",
    "op = sess.graph.get_operations()\n",
    "[m.values() for m in op]"
   ]
  },
  {
   "cell_type": "code",
   "execution_count": 8,
   "metadata": {
    "collapsed": true
   },
   "outputs": [],
   "source": [
    "sess.close()"
   ]
  },
  {
   "cell_type": "code",
   "execution_count": 9,
   "metadata": {
    "collapsed": true
   },
   "outputs": [],
   "source": [
    "logs_path = '/tmp/tensorflowlogs/datagiri_nn_tf_1'"
   ]
  },
  {
   "cell_type": "code",
   "execution_count": 10,
   "metadata": {
    "collapsed": true
   },
   "outputs": [],
   "source": [
    "# Initializing the variables\n",
    "init = tf.global_variables_initializer()\n",
    "\n",
    "merged_summary_op = tf.summary.merge_all()"
   ]
  },
  {
   "cell_type": "code",
   "execution_count": 11,
   "metadata": {
    "collapsed": false,
    "scrolled": false
   },
   "outputs": [
    {
     "name": "stdout",
     "output_type": "stream",
     "text": [
      "epoch:  0 Train_Accuracy:  [0.19354546] Validation_Accuracy:  [0.18260001] time_taken: 1.088667869567871\n",
      "epoch:  0 Train_Accuracy:  [0.90918183] Validation_Accuracy:  [0.90899998] time_taken: 3.239824056625366\n",
      "epoch:  0 Train_Accuracy:  [0.93229091] Validation_Accuracy:  [0.9278] time_taken: 5.385020971298218\n",
      "epoch:  0 Train_Accuracy:  [0.94660002] Validation_Accuracy:  [0.94279999] time_taken: 7.519505977630615\n",
      "epoch:  1 Train_Accuracy:  [0.94390911] Validation_Accuracy:  [0.94340003] time_taken: 8.866734027862549\n",
      "epoch:  1 Train_Accuracy:  [0.95645458] Validation_Accuracy:  [0.94859999] time_taken: 10.993315935134888\n",
      "epoch:  1 Train_Accuracy:  [0.95538181] Validation_Accuracy:  [0.94760001] time_taken: 13.170160055160522\n",
      "epoch:  1 Train_Accuracy:  [0.96267271] Validation_Accuracy:  [0.95859998] time_taken: 15.31642198562622\n",
      "epoch:  2 Train_Accuracy:  [0.96294546] Validation_Accuracy:  [0.9562] time_taken: 16.691431999206543\n",
      "epoch:  2 Train_Accuracy:  [0.9667818] Validation_Accuracy:  [0.96139997] time_taken: 18.82625699043274\n",
      "epoch:  2 Train_Accuracy:  [0.96565455] Validation_Accuracy:  [0.95899999] time_taken: 21.19118905067444\n",
      "epoch:  2 Train_Accuracy:  [0.97454548] Validation_Accuracy:  [0.96359998] time_taken: 23.541200876235962\n",
      "epoch:  3 Train_Accuracy:  [0.96994543] Validation_Accuracy:  [0.96100003] time_taken: 24.906250953674316\n",
      "epoch:  3 Train_Accuracy:  [0.97140002] Validation_Accuracy:  [0.96240002] time_taken: 27.039572954177856\n",
      "epoch:  3 Train_Accuracy:  [0.96409088] Validation_Accuracy:  [0.95599997] time_taken: 29.22858500480652\n",
      "epoch:  3 Train_Accuracy:  [0.97810906] Validation_Accuracy:  [0.9684] time_taken: 31.87543487548828\n",
      "epoch:  4 Train_Accuracy:  [0.97561818] Validation_Accuracy:  [0.96520001] time_taken: 33.41632890701294\n",
      "epoch:  4 Train_Accuracy:  [0.9738909] Validation_Accuracy:  [0.96499997] time_taken: 35.64688301086426\n",
      "epoch:  4 Train_Accuracy:  [0.9743818] Validation_Accuracy:  [0.96219999] time_taken: 37.78394389152527\n",
      "epoch:  4 Train_Accuracy:  [0.97849089] Validation_Accuracy:  [0.96799999] time_taken: 39.943495988845825\n",
      "epoch:  5 Train_Accuracy:  [0.97939998] Validation_Accuracy:  [0.96820003] time_taken: 41.42265605926514\n",
      "epoch:  5 Train_Accuracy:  [0.97505456] Validation_Accuracy:  [0.96539998] time_taken: 43.687087059020996\n",
      "epoch:  5 Train_Accuracy:  [0.97629088] Validation_Accuracy:  [0.96700001] time_taken: 46.209080934524536\n",
      "epoch:  5 Train_Accuracy:  [0.98183638] Validation_Accuracy:  [0.9698] time_taken: 48.58067798614502\n",
      "epoch:  6 Train_Accuracy:  [0.97974545] Validation_Accuracy:  [0.96619999] time_taken: 50.486284017562866\n",
      "epoch:  6 Train_Accuracy:  [0.97741818] Validation_Accuracy:  [0.96259999] time_taken: 53.169163942337036\n",
      "epoch:  6 Train_Accuracy:  [0.97732729] Validation_Accuracy:  [0.96719998] time_taken: 55.478447914123535\n",
      "epoch:  6 Train_Accuracy:  [0.98514545] Validation_Accuracy:  [0.97140002] time_taken: 57.82648587226868\n",
      "epoch:  7 Train_Accuracy:  [0.97385454] Validation_Accuracy:  [0.963] time_taken: 59.47447204589844\n",
      "epoch:  7 Train_Accuracy:  [0.97905457] Validation_Accuracy:  [0.96359998] time_taken: 62.00127196311951\n",
      "epoch:  7 Train_Accuracy:  [0.97925454] Validation_Accuracy:  [0.96439999] time_taken: 64.18507099151611\n",
      "epoch:  7 Train_Accuracy:  [0.98259997] Validation_Accuracy:  [0.96920002] time_taken: 66.73122501373291\n",
      "epoch:  8 Train_Accuracy:  [0.98318183] Validation_Accuracy:  [0.96719998] time_taken: 68.08136796951294\n",
      "epoch:  8 Train_Accuracy:  [0.98183638] Validation_Accuracy:  [0.96619999] time_taken: 70.30531692504883\n",
      "epoch:  8 Train_Accuracy:  [0.98007274] Validation_Accuracy:  [0.96579999] time_taken: 72.76565790176392\n",
      "epoch:  8 Train_Accuracy:  [0.98592728] Validation_Accuracy:  [0.97039998] time_taken: 75.34859991073608\n",
      "epoch:  9 Train_Accuracy:  [0.98250908] Validation_Accuracy:  [0.97000003] time_taken: 76.81076288223267\n",
      "epoch:  9 Train_Accuracy:  [0.97701818] Validation_Accuracy:  [0.96499997] time_taken: 79.2445080280304\n",
      "epoch:  9 Train_Accuracy:  [0.98607272] Validation_Accuracy:  [0.97219998] time_taken: 82.17062401771545\n",
      "epoch:  9 Train_Accuracy:  [0.98790908] Validation_Accuracy:  [0.9752] time_taken: 84.66593194007874\n",
      "total time taken:  85.37822604179382\n",
      "Test Accuracy: [0.96939999]\n"
     ]
    }
   ],
   "source": [
    "start = time.time()\n",
    "with tf.Session() as sess:\n",
    "    sess.run(init)\n",
    "    summary_writer = tf.summary.FileWriter(logs_path, graph = sess.graph)\n",
    "    for i in range(epochs):\n",
    "        batches = int(len(mnist.train.images)/batch_size)\n",
    "        for j in range(batches):\n",
    "            _, summary = sess.run([optimizer, merged_summary_op], feed_dict={x: mnist.train.images[j*batch_size:(j+1)*batch_size,:],\n",
    "                                                          y: mnist.train.labels[j*batch_size:(j+1)*batch_size,:]})\n",
    "            summary_writer.add_summary(summary, epochs*batches+i)\n",
    "            if j % 500 == 0:\n",
    "                train_acc = sess.run([accuracy], feed_dict={x: mnist.train.images, y: mnist.train.labels})\n",
    "                valid_acc = sess.run([accuracy], feed_dict={x: mnist.validation.images, y: mnist.validation.labels})\n",
    "                print (\"epoch: \", i , \"Train_Accuracy: \", train_acc, \"Validation_Accuracy: \", valid_acc, \"time_taken:\", (time.time() - start))\n",
    "    print (\"total time taken: \", time.time()-start)\n",
    "    test_accuracy = sess.run([accuracy],feed_dict={x: mnist.test.images, y: mnist.test.labels} )\n",
    "    print(\"Test Accuracy:\", test_accuracy)"
   ]
  },
  {
   "cell_type": "code",
   "execution_count": 12,
   "metadata": {
    "collapsed": false
   },
   "outputs": [
    {
     "name": "stdout",
     "output_type": "stream",
     "text": [
      "ERROR:tensorflow:Tried to connect to port 6006, but address is in use.\r\n",
      "Tried to connect to port 6006, but address is in use.\r\n"
     ]
    }
   ],
   "source": [
    "! tensorboard --logdir=/tmp/tensorflowlogs/datagiri_nn_tf_1"
   ]
  }
 ],
 "metadata": {
  "kernelspec": {
   "display_name": "Python 3",
   "language": "python",
   "name": "python3"
  },
  "language_info": {
   "codemirror_mode": {
    "name": "ipython",
    "version": 3
   },
   "file_extension": ".py",
   "mimetype": "text/x-python",
   "name": "python",
   "nbconvert_exporter": "python",
   "pygments_lexer": "ipython3",
   "version": "3.5.2"
  }
 },
 "nbformat": 4,
 "nbformat_minor": 2
}
