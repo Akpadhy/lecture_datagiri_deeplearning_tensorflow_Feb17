{
 "cells": [
  {
   "cell_type": "code",
   "execution_count": 1,
   "metadata": {
    "collapsed": false
   },
   "outputs": [
    {
     "name": "stdout",
     "output_type": "stream",
     "text": [
      "Extracting MNIST_data/train-images-idx3-ubyte.gz\n",
      "Extracting MNIST_data/train-labels-idx1-ubyte.gz\n",
      "Extracting MNIST_data/t10k-images-idx3-ubyte.gz\n",
      "Extracting MNIST_data/t10k-labels-idx1-ubyte.gz\n"
     ]
    }
   ],
   "source": [
    "import numpy as np\n",
    "import tensorflow as tf\n",
    "import time\n",
    "\n",
    "# Import MINST data\n",
    "from tensorflow.examples.tutorials.mnist import input_data\n",
    "mnist = input_data.read_data_sets(\"MNIST_data/\", one_hot=True)"
   ]
  },
  {
   "cell_type": "code",
   "execution_count": 2,
   "metadata": {
    "collapsed": false
   },
   "outputs": [
    {
     "data": {
      "text/plain": [
       "(10, 28, 28)"
      ]
     },
     "execution_count": 2,
     "metadata": {},
     "output_type": "execute_result"
    }
   ],
   "source": [
    "mnist.train.images[0:10].reshape(10,28,28).shape"
   ]
  },
  {
   "cell_type": "code",
   "execution_count": 3,
   "metadata": {
    "collapsed": false
   },
   "outputs": [],
   "source": [
    "import matplotlib.pyplot as plt\n",
    "%matplotlib inline"
   ]
  },
  {
   "cell_type": "code",
   "execution_count": 4,
   "metadata": {
    "collapsed": false
   },
   "outputs": [
    {
     "data": {
      "image/png": "[encoded data removed]",
      "text/plain": [
       "<matplotlib.figure.Figure at 0x11ea7d4e0>"
      ]
     },
     "metadata": {},
     "output_type": "display_data"
    }
   ],
   "source": [
    "plt.imshow(mnist.train.images[0:10].reshape(10,28,28)[0])\n",
    "plt.show()"
   ]
  },
  {
   "cell_type": "code",
   "execution_count": 5,
   "metadata": {
    "collapsed": true
   },
   "outputs": [],
   "source": [
    "logs_path = '/tmp/tensorflow_logs/datagiri_tf2'"
   ]
  },
  {
   "cell_type": "code",
   "execution_count": 6,
   "metadata": {
    "collapsed": true
   },
   "outputs": [],
   "source": [
    "# Parameters\n",
    "learning_rate = 0.01\n",
    "epochs = 30\n",
    "batch_size = 32\n",
    "\n",
    "# tf Graph Input\n",
    "x = tf.placeholder(tf.float32, [None, 784]) # mnist data image of shape 28*28=784\n",
    "y = tf.placeholder(tf.float32, [None, 10]) # 0-9 digits recognition => 10 classes\n",
    "\n",
    "# Set model weights\n",
    "W = tf.Variable(tf.zeros([784, 10]), name = \"Weights\")\n",
    "b = tf.Variable(tf.zeros([10]), name = \"Bias\")\n",
    "\n",
    "# Construct model\n",
    "pred = tf.matmul(x, W) + b # Softmax\n",
    "# image = tf.reshape(x,[32,28,28])\n",
    "# tf.summary.image(\"input_image\", image)\n",
    "\n",
    "# Minimize error using cross entropy\n",
    "with tf.name_scope(\"cost\"):\n",
    "    cost = tf.reduce_mean(tf.nn.sigmoid_cross_entropy_with_logits(logits=pred, labels=y))\n",
    "# Gradient Descent\n",
    "with tf.name_scope(\"optimizer\"):\n",
    "    optimizer = tf.train.GradientDescentOptimizer(learning_rate).minimize(cost)\n",
    "\n",
    "with tf.name_scope(\"accuracy\"):\n",
    "    with tf.name_scope(\"prediction\"):\n",
    "        prediction = tf.equal(tf.argmax(pred, 1), tf.argmax(y,1))\n",
    "    with tf.name_scope(\"accuracy\"):\n",
    "        accuracy = tf.reduce_mean(tf.cast(prediction, tf.float32))\n",
    "tf.summary.scalar(\"accuracy\", accuracy)\n",
    "\n",
    "# Initializing the variables\n",
    "init = tf.global_variables_initializer()\n",
    "\n",
    "# Create a summary to monitor cost tensor\n",
    "tf.summary.scalar(\"loss\", cost)\n",
    "merged_summary_op = tf.summary.merge_all()\n"
   ]
  },
  {
   "cell_type": "code",
   "execution_count": 7,
   "metadata": {
    "collapsed": false,
    "scrolled": false
   },
   "outputs": [
    {
     "name": "stdout",
     "output_type": "stream",
     "text": [
      "epoch:  0 Train_Accuracy:  [0.38676363] Validation_Accuracy:  [0.38240001] time_taken: 0.5598840713500977\n",
      "epoch:  0 Train_Accuracy:  [0.73125452] Validation_Accuracy:  [0.7392] time_taken: 1.2578229904174805\n",
      "epoch:  0 Train_Accuracy:  [0.7744] Validation_Accuracy:  [0.7816] time_taken: 1.9547700881958008\n",
      "epoch:  0 Train_Accuracy:  [0.78685457] Validation_Accuracy:  [0.79460001] time_taken: 2.6508970260620117\n",
      "epoch:  1 Train_Accuracy:  [0.79187274] Validation_Accuracy:  [0.801] time_taken: 3.071408987045288\n",
      "epoch:  1 Train_Accuracy:  [0.7990182] Validation_Accuracy:  [0.80500001] time_taken: 3.766202926635742\n",
      "epoch:  1 Train_Accuracy:  [0.81227273] Validation_Accuracy:  [0.81819999] time_taken: 4.464632987976074\n",
      "epoch:  1 Train_Accuracy:  [0.81618184] Validation_Accuracy:  [0.82459998] time_taken: 5.16135311126709\n",
      "epoch:  2 Train_Accuracy:  [0.81767273] Validation_Accuracy:  [0.82560003] time_taken: 5.587445020675659\n",
      "epoch:  2 Train_Accuracy:  [0.81994545] Validation_Accuracy:  [0.82700002] time_taken: 6.279110908508301\n",
      "epoch:  2 Train_Accuracy:  [0.82641816] Validation_Accuracy:  [0.83579999] time_taken: 6.967672109603882\n",
      "epoch:  2 Train_Accuracy:  [0.82850909] Validation_Accuracy:  [0.83819997] time_taken: 7.706952095031738\n",
      "epoch:  3 Train_Accuracy:  [0.82905453] Validation_Accuracy:  [0.83960003] time_taken: 8.158397912979126\n",
      "epoch:  3 Train_Accuracy:  [0.83027273] Validation_Accuracy:  [0.84039998] time_taken: 8.911801099777222\n",
      "epoch:  3 Train_Accuracy:  [0.83560002] Validation_Accuracy:  [0.84460002] time_taken: 9.653832912445068\n",
      "epoch:  3 Train_Accuracy:  [0.83734548] Validation_Accuracy:  [0.84759998] time_taken: 10.379743099212646\n",
      "epoch:  4 Train_Accuracy:  [0.83798182] Validation_Accuracy:  [0.84680003] time_taken: 10.799253940582275\n",
      "epoch:  4 Train_Accuracy:  [0.8397091] Validation_Accuracy:  [0.84759998] time_taken: 11.487596035003662\n",
      "epoch:  4 Train_Accuracy:  [0.84332728] Validation_Accuracy:  [0.8502] time_taken: 12.226593971252441\n",
      "epoch:  4 Train_Accuracy:  [0.84425455] Validation_Accuracy:  [0.85079998] time_taken: 12.942600965499878\n",
      "epoch:  5 Train_Accuracy:  [0.84485453] Validation_Accuracy:  [0.85119998] time_taken: 13.367011070251465\n",
      "epoch:  5 Train_Accuracy:  [0.84594548] Validation_Accuracy:  [0.85339999] time_taken: 14.077960968017578\n",
      "epoch:  5 Train_Accuracy:  [0.84912729] Validation_Accuracy:  [0.8574] time_taken: 14.891235113143921\n",
      "epoch:  5 Train_Accuracy:  [0.8495273] Validation_Accuracy:  [0.85799998] time_taken: 15.718034029006958\n",
      "epoch:  6 Train_Accuracy:  [0.85000002] Validation_Accuracy:  [0.85659999] time_taken: 16.166265964508057\n",
      "epoch:  6 Train_Accuracy:  [0.85067272] Validation_Accuracy:  [0.85900003] time_taken: 16.863516092300415\n",
      "epoch:  6 Train_Accuracy:  [0.85330909] Validation_Accuracy:  [0.8624] time_taken: 17.565349102020264\n",
      "epoch:  6 Train_Accuracy:  [0.85349089] Validation_Accuracy:  [0.86140001] time_taken: 18.259385108947754\n",
      "epoch:  7 Train_Accuracy:  [0.85381818] Validation_Accuracy:  [0.86140001] time_taken: 18.68268609046936\n",
      "epoch:  7 Train_Accuracy:  [0.85423636] Validation_Accuracy:  [0.86320001] time_taken: 19.379401922225952\n",
      "epoch:  7 Train_Accuracy:  [0.85629094] Validation_Accuracy:  [0.86440003] time_taken: 20.09515690803528\n",
      "epoch:  7 Train_Accuracy:  [0.85636365] Validation_Accuracy:  [0.86500001] time_taken: 20.8304660320282\n",
      "epoch:  8 Train_Accuracy:  [0.85670906] Validation_Accuracy:  [0.8646] time_taken: 21.262566089630127\n",
      "epoch:  8 Train_Accuracy:  [0.85699999] Validation_Accuracy:  [0.86680001] time_taken: 21.972934007644653\n",
      "epoch:  8 Train_Accuracy:  [0.85881817] Validation_Accuracy:  [0.8678] time_taken: 22.662895917892456\n",
      "epoch:  8 Train_Accuracy:  [0.85903639] Validation_Accuracy:  [0.86699998] time_taken: 23.347660064697266\n",
      "epoch:  9 Train_Accuracy:  [0.85936362] Validation_Accuracy:  [0.86680001] time_taken: 23.793617010116577\n",
      "epoch:  9 Train_Accuracy:  [0.85934544] Validation_Accuracy:  [0.86900002] time_taken: 24.504992961883545\n",
      "epoch:  9 Train_Accuracy:  [0.86149091] Validation_Accuracy:  [0.86919999] time_taken: 25.20083498954773\n",
      "epoch:  9 Train_Accuracy:  [0.86181819] Validation_Accuracy:  [0.86919999] time_taken: 25.901515007019043\n",
      "epoch:  10 Train_Accuracy:  [0.86210907] Validation_Accuracy:  [0.86940002] time_taken: 26.341686010360718\n",
      "epoch:  10 Train_Accuracy:  [0.86210907] Validation_Accuracy:  [0.87080002] time_taken: 27.05481505393982\n",
      "epoch:  10 Train_Accuracy:  [0.86341816] Validation_Accuracy:  [0.87199998] time_taken: 27.76599097251892\n",
      "epoch:  10 Train_Accuracy:  [0.86423635] Validation_Accuracy:  [0.87239999] time_taken: 28.46385407447815\n",
      "epoch:  11 Train_Accuracy:  [0.86450911] Validation_Accuracy:  [0.87239999] time_taken: 28.897456884384155\n",
      "epoch:  11 Train_Accuracy:  [0.86430907] Validation_Accuracy:  [0.87239999] time_taken: 29.605243921279907\n",
      "epoch:  11 Train_Accuracy:  [0.86569089] Validation_Accuracy:  [0.87400001] time_taken: 30.35354709625244\n",
      "epoch:  11 Train_Accuracy:  [0.86638182] Validation_Accuracy:  [0.87480003] time_taken: 31.063828945159912\n",
      "epoch:  12 Train_Accuracy:  [0.86650908] Validation_Accuracy:  [0.87559998] time_taken: 31.513797998428345\n",
      "epoch:  12 Train_Accuracy:  [0.86610907] Validation_Accuracy:  [0.875] time_taken: 32.22755002975464\n",
      "epoch:  12 Train_Accuracy:  [0.86739999] Validation_Accuracy:  [0.8768] time_taken: 32.95421004295349\n",
      "epoch:  12 Train_Accuracy:  [0.86790907] Validation_Accuracy:  [0.87779999] time_taken: 33.68078589439392\n",
      "epoch:  13 Train_Accuracy:  [0.86799997] Validation_Accuracy:  [0.87800002] time_taken: 34.135865926742554\n",
      "epoch:  13 Train_Accuracy:  [0.86789089] Validation_Accuracy:  [0.87720001] time_taken: 34.935352087020874\n",
      "epoch:  13 Train_Accuracy:  [0.86900002] Validation_Accuracy:  [0.8786] time_taken: 35.77210211753845\n",
      "epoch:  13 Train_Accuracy:  [0.86947274] Validation_Accuracy:  [0.87980002] time_taken: 36.467145919799805\n",
      "epoch:  14 Train_Accuracy:  [0.86940002] Validation_Accuracy:  [0.88] time_taken: 36.89468002319336\n",
      "epoch:  14 Train_Accuracy:  [0.86910909] Validation_Accuracy:  [0.87879997] time_taken: 37.67072796821594\n",
      "epoch:  14 Train_Accuracy:  [0.87043637] Validation_Accuracy:  [0.87980002] time_taken: 38.43632507324219\n",
      "epoch:  14 Train_Accuracy:  [0.87047273] Validation_Accuracy:  [0.8804] time_taken: 39.136861085891724\n",
      "epoch:  15 Train_Accuracy:  [0.87059999] Validation_Accuracy:  [0.88059998] time_taken: 39.564927101135254\n",
      "epoch:  15 Train_Accuracy:  [0.87047273] Validation_Accuracy:  [0.88080001] time_taken: 40.288597106933594\n",
      "epoch:  15 Train_Accuracy:  [0.87165457] Validation_Accuracy:  [0.88080001] time_taken: 41.00070095062256\n",
      "epoch:  15 Train_Accuracy:  [0.87170911] Validation_Accuracy:  [0.8818] time_taken: 41.770787954330444\n",
      "epoch:  16 Train_Accuracy:  [0.87183636] Validation_Accuracy:  [0.88200003] time_taken: 42.24794411659241\n",
      "epoch:  16 Train_Accuracy:  [0.87143636] Validation_Accuracy:  [0.88200003] time_taken: 42.98851704597473\n",
      "epoch:  16 Train_Accuracy:  [0.87294543] Validation_Accuracy:  [0.88260001] time_taken: 43.74256491661072\n",
      "epoch:  16 Train_Accuracy:  [0.87283635] Validation_Accuracy:  [0.88319999] time_taken: 44.51403999328613\n",
      "epoch:  17 Train_Accuracy:  [0.87301821] Validation_Accuracy:  [0.88300002] time_taken: 45.04144811630249\n",
      "epoch:  17 Train_Accuracy:  [0.87260002] Validation_Accuracy:  [0.88340002] time_taken: 45.97013306617737\n",
      "epoch:  17 Train_Accuracy:  [0.87363636] Validation_Accuracy:  [0.8836] time_taken: 46.66310501098633\n",
      "epoch:  17 Train_Accuracy:  [0.87394547] Validation_Accuracy:  [0.88419998] time_taken: 47.369317054748535\n",
      "epoch:  18 Train_Accuracy:  [0.87396365] Validation_Accuracy:  [0.88380003] time_taken: 47.79506301879883\n",
      "epoch:  18 Train_Accuracy:  [0.87343639] Validation_Accuracy:  [0.88419998] time_taken: 48.48200011253357\n",
      "epoch:  18 Train_Accuracy:  [0.87485456] Validation_Accuracy:  [0.88520002] time_taken: 49.17003011703491\n",
      "epoch:  18 Train_Accuracy:  [0.87485456] Validation_Accuracy:  [0.88520002] time_taken: 49.86039400100708\n",
      "epoch:  19 Train_Accuracy:  [0.87519997] Validation_Accuracy:  [0.88459998] time_taken: 50.286165952682495\n",
      "epoch:  19 Train_Accuracy:  [0.87459999] Validation_Accuracy:  [0.88520002] time_taken: 50.988487005233765\n",
      "epoch:  19 Train_Accuracy:  [0.87583637] Validation_Accuracy:  [0.88639998] time_taken: 51.73244905471802\n",
      "epoch:  19 Train_Accuracy:  [0.87590909] Validation_Accuracy:  [0.88599998] time_taken: 52.4332549571991\n",
      "epoch:  20 Train_Accuracy:  [0.87603635] Validation_Accuracy:  [0.88559997] time_taken: 52.8602089881897\n",
      "epoch:  20 Train_Accuracy:  [0.87543637] Validation_Accuracy:  [0.88620001] time_taken: 53.553837060928345\n",
      "epoch:  20 Train_Accuracy:  [0.8768909] Validation_Accuracy:  [0.8872] time_taken: 54.25012993812561\n",
      "epoch:  20 Train_Accuracy:  [0.87674546] Validation_Accuracy:  [0.88700002] time_taken: 54.94252896308899\n",
      "epoch:  21 Train_Accuracy:  [0.87674546] Validation_Accuracy:  [0.88620001] time_taken: 55.3675799369812\n",
      "epoch:  21 Train_Accuracy:  [0.87638181] Validation_Accuracy:  [0.8876] time_taken: 56.06378793716431\n",
      "epoch:  21 Train_Accuracy:  [0.87765455] Validation_Accuracy:  [0.8876] time_taken: 56.76127791404724\n",
      "epoch:  21 Train_Accuracy:  [0.87767273] Validation_Accuracy:  [0.8876] time_taken: 57.45068693161011\n",
      "epoch:  22 Train_Accuracy:  [0.87774545] Validation_Accuracy:  [0.88700002] time_taken: 57.877739906311035\n",
      "epoch:  22 Train_Accuracy:  [0.87734544] Validation_Accuracy:  [0.88859999] time_taken: 58.58225989341736\n",
      "epoch:  22 Train_Accuracy:  [0.87847275] Validation_Accuracy:  [0.88840002] time_taken: 59.283539056777954\n",
      "epoch:  22 Train_Accuracy:  [0.87863636] Validation_Accuracy:  [0.889] time_taken: 60.02148199081421\n",
      "epoch:  23 Train_Accuracy:  [0.87865454] Validation_Accuracy:  [0.88800001] time_taken: 60.44657111167908\n",
      "epoch:  23 Train_Accuracy:  [0.87825453] Validation_Accuracy:  [0.88959998] time_taken: 61.15581703186035\n",
      "epoch:  23 Train_Accuracy:  [0.87919998] Validation_Accuracy:  [0.88980001] time_taken: 61.857337951660156\n",
      "epoch:  23 Train_Accuracy:  [0.87940001] Validation_Accuracy:  [0.88999999] time_taken: 62.55811595916748\n",
      "epoch:  24 Train_Accuracy:  [0.87943637] Validation_Accuracy:  [0.88959998] time_taken: 62.98231601715088\n",
      "epoch:  24 Train_Accuracy:  [0.87894547] Validation_Accuracy:  [0.88919997] time_taken: 63.6851589679718\n",
      "epoch:  24 Train_Accuracy:  [0.88005453] Validation_Accuracy:  [0.89060003] time_taken: 64.3804190158844\n",
      "epoch:  24 Train_Accuracy:  [0.88001817] Validation_Accuracy:  [0.8908] time_taken: 65.07518291473389\n",
      "epoch:  25 Train_Accuracy:  [0.88016361] Validation_Accuracy:  [0.89039999] time_taken: 65.50381708145142\n",
      "epoch:  25 Train_Accuracy:  [0.87972724] Validation_Accuracy:  [0.89020002] time_taken: 66.19180202484131\n",
      "epoch:  25 Train_Accuracy:  [0.88089091] Validation_Accuracy:  [0.8908] time_taken: 66.9188780784607\n",
      "epoch:  25 Train_Accuracy:  [0.88089091] Validation_Accuracy:  [0.89139998] time_taken: 67.61912798881531\n",
      "epoch:  26 Train_Accuracy:  [0.8809818] Validation_Accuracy:  [0.89139998] time_taken: 68.04239010810852\n",
      "epoch:  26 Train_Accuracy:  [0.8804] Validation_Accuracy:  [0.89139998] time_taken: 68.74613809585571\n",
      "epoch:  26 Train_Accuracy:  [0.8817091] Validation_Accuracy:  [0.89139998] time_taken: 69.451819896698\n",
      "epoch:  26 Train_Accuracy:  [0.88152725] Validation_Accuracy:  [0.89200002] time_taken: 70.52556610107422\n",
      "epoch:  27 Train_Accuracy:  [0.8816182] Validation_Accuracy:  [0.89179999] time_taken: 70.96042799949646\n",
      "epoch:  27 Train_Accuracy:  [0.88118184] Validation_Accuracy:  [0.89219999] time_taken: 71.73522400856018\n",
      "epoch:  27 Train_Accuracy:  [0.88232726] Validation_Accuracy:  [0.89200002] time_taken: 72.54103803634644\n",
      "epoch:  27 Train_Accuracy:  [0.88232726] Validation_Accuracy:  [0.89219999] time_taken: 73.32285594940186\n",
      "epoch:  28 Train_Accuracy:  [0.88236362] Validation_Accuracy:  [0.8926] time_taken: 73.72982501983643\n",
      "epoch:  28 Train_Accuracy:  [0.88187271] Validation_Accuracy:  [0.8926] time_taken: 74.52797198295593\n",
      "epoch:  28 Train_Accuracy:  [0.88294548] Validation_Accuracy:  [0.8926] time_taken: 75.33434796333313\n",
      "epoch:  28 Train_Accuracy:  [0.88289088] Validation_Accuracy:  [0.89300001] time_taken: 76.06077289581299\n",
      "epoch:  29 Train_Accuracy:  [0.88305455] Validation_Accuracy:  [0.89319998] time_taken: 76.47504901885986\n",
      "epoch:  29 Train_Accuracy:  [0.88260001] Validation_Accuracy:  [0.89240003] time_taken: 77.1523220539093\n",
      "epoch:  29 Train_Accuracy:  [0.88334543] Validation_Accuracy:  [0.89279997] time_taken: 77.8246169090271\n",
      "epoch:  29 Train_Accuracy:  [0.88338184] Validation_Accuracy:  [0.89380002] time_taken: 78.51202011108398\n",
      "total time taken:  78.7176160812378\n",
      "Test Accuracy: [0.89289999]\n"
     ]
    }
   ],
   "source": [
    "start = time.time()\n",
    "with tf.Session() as sess:\n",
    "    sess.run(init)\n",
    "    summary_writer = tf.summary.FileWriter(logs_path, graph = sess.graph)\n",
    "    for i in range(epochs):\n",
    "        batches = int(len(mnist.train.images)/batch_size)\n",
    "        for j in range(batches):\n",
    "            _, summary = sess.run([optimizer, merged_summary_op], feed_dict={x: mnist.train.images[j*batch_size:(j+1)*batch_size,:],y: mnist.train.labels[j*batch_size:(j+1)*batch_size,:]})\n",
    "            summary_writer.add_summary(summary, epochs*batches+i)\n",
    "            if j % 500 == 0:\n",
    "                train_acc = sess.run([accuracy], feed_dict={x: mnist.train.images, y: mnist.train.labels})\n",
    "                valid_acc = sess.run([accuracy], feed_dict={x: mnist.validation.images, y: mnist.validation.labels})\n",
    "                print (\"epoch: \", i , \"Train_Accuracy: \", train_acc, \"Validation_Accuracy: \", valid_acc, \"time_taken:\", (time.time() - start))\n",
    "    print (\"total time taken: \", time.time()-start)\n",
    "    test_accuracy = sess.run([accuracy],feed_dict={x: mnist.test.images, y: mnist.test.labels} )\n",
    "    print(\"Test Accuracy:\", test_accuracy)"
   ]
  },
  {
   "cell_type": "code",
   "execution_count": null,
   "metadata": {
    "collapsed": false
   },
   "outputs": [],
   "source": [
    "! tensorboard --logdir=/tmp/tensorflow_logs\n",
    "# run the above command to visualize the graph and other losses defined "
   ]
  }
 ],
 "metadata": {
  "kernelspec": {
   "display_name": "Python 3",
   "language": "python",
   "name": "python3"
  },
  "language_info": {
   "codemirror_mode": {
    "name": "ipython",
    "version": 3
   },
   "file_extension": ".py",
   "mimetype": "text/x-python",
   "name": "python",
   "nbconvert_exporter": "python",
   "pygments_lexer": "ipython3",
   "version": "3.5.2"
  }
 },
 "nbformat": 4,
 "nbformat_minor": 2
}
